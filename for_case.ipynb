{
 "cells": [
  {
   "cell_type": "markdown",
   "metadata": {},
   "source": [
    "## _FizzBuzz_\n",
    "#### outputnya 1 - 100\n",
    "#### kelipatan 3 = 'fizz'\n",
    "#### kelipatan 5 = 'buzz'\n",
    "#### kelipatan 3 & 5 = 'fizzbuzz'"
   ]
  },
  {
   "cell_type": "code",
   "execution_count": null,
   "metadata": {},
   "outputs": [],
   "source": [
    "# def fizzbuzz(x):\n",
    "#     for num in range(1, x+1):\n",
    "#         if num % 3 == 0 and num % 5 == 0:\n",
    "#             print('FizzBuzz')\n",
    "#         elif num % 3 == 0:\n",
    "#             print('Fizz')\n",
    "#         elif num % 5 == 0:\n",
    "#             print('Buzz')\n",
    "#         else:\n",
    "#             print(num)\n",
    "# fizzbuzz(16)"
   ]
  },
  {
   "cell_type": "markdown",
   "metadata": {},
   "source": [
    "## _Reverse List with Function 1_"
   ]
  },
  {
   "cell_type": "code",
   "execution_count": null,
   "metadata": {},
   "outputs": [],
   "source": [
    "# def balik(x):\n",
    "#     y = []\n",
    "#     for i in range(len(x)):\n",
    "#         y.insert(0, x[i])\n",
    "#     return y\n",
    "# print(balik([1,2,3]))"
   ]
  },
  {
   "cell_type": "markdown",
   "metadata": {},
   "source": [
    "## _Reverse List with Function 2_"
   ]
  },
  {
   "cell_type": "code",
   "execution_count": null,
   "metadata": {},
   "outputs": [],
   "source": [
    "# def balik2(x):\n",
    "#     for i in range(round(len(x)/2)):\n",
    "#         y = x[i]\n",
    "#         x[i] = x[len(x) - 1 - i]\n",
    "#         x[len(x) - 1 - i] = y\n",
    "#     return x\n",
    "# print(balik2([1,2,3,4,5,6,7,8,9]))"
   ]
  }
 ],
 "metadata": {
  "kernelspec": {
   "display_name": "Python 3",
   "language": "python",
   "name": "python3"
  },
  "language_info": {
   "codemirror_mode": {
    "name": "ipython",
    "version": 3
   },
   "file_extension": ".py",
   "mimetype": "text/x-python",
   "name": "python",
   "nbconvert_exporter": "python",
   "pygments_lexer": "ipython3",
   "version": "3.8.1"
  }
 },
 "nbformat": 4,
 "nbformat_minor": 4
}
