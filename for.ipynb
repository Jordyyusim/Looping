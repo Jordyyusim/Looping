{
 "cells": [
  {
   "cell_type": "markdown",
   "metadata": {},
   "source": [
    "# __FOR LOOPING__\n",
    "<HR>\n",
    "<HR>"
   ]
  },
  {
   "cell_type": "code",
   "execution_count": null,
   "metadata": {},
   "outputs": [],
   "source": [
    "# x = [1,2,3,4,5]\n",
    "# for i in x:\n",
    "#     print(i)"
   ]
  },
  {
   "cell_type": "code",
   "execution_count": null,
   "metadata": {},
   "outputs": [],
   "source": [
    "# for i in range(5):\n",
    "#     print(i)"
   ]
  },
  {
   "cell_type": "code",
   "execution_count": null,
   "metadata": {},
   "outputs": [],
   "source": [
    "# for i in range(1, 10, 2):\n",
    "#     print('ke', i)"
   ]
  },
  {
   "cell_type": "code",
   "execution_count": null,
   "metadata": {},
   "outputs": [],
   "source": [
    "# nama = ['andi', 'budi', 'caca']\n",
    "# for name in nama:\n",
    "#     print(name)\n",
    "#     print(nama.index(name) + 1, '-', name)"
   ]
  },
  {
   "cell_type": "code",
   "execution_count": null,
   "metadata": {},
   "outputs": [],
   "source": [
    "# for num in range(20):\n",
    "#     print(num)"
   ]
  },
  {
   "cell_type": "code",
   "execution_count": null,
   "metadata": {},
   "outputs": [],
   "source": [
    "# for num in range(20):\n",
    "#     if num%2 ==0:\n",
    "#         print(num)"
   ]
  },
  {
   "cell_type": "code",
   "execution_count": null,
   "metadata": {},
   "outputs": [],
   "source": [
    "# for num in range(10, 0, -1):\n",
    "#     print(num)"
   ]
  },
  {
   "cell_type": "code",
   "execution_count": null,
   "metadata": {},
   "outputs": [],
   "source": [
    "a = ''\n",
    "for i in range(5):\n",
    "    a += '1' \n",
    "    print(a)\n",
    "#1\n",
    "#11\n",
    "#111\n",
    "#1111\n",
    "#11111"
   ]
  },
  {
   "cell_type": "code",
   "execution_count": null,
   "metadata": {},
   "outputs": [],
   "source": [
    "a = ''\n",
    "for i in range(5):\n",
    "    a += str(i + 1) + ' '\n",
    "    print(a)\n",
    "\n",
    "#1 \n",
    "#1 2 \n",
    "#1 2 3 \n",
    "#1 2 3 4 \n",
    "#1 2 3 4 5 "
   ]
  },
  {
   "cell_type": "code",
   "execution_count": null,
   "metadata": {},
   "outputs": [],
   "source": [
    "star = ''\n",
    "for i in range(5):\n",
    "    for j in range(5-i):\n",
    "        star += ' * '\n",
    "    star += '\\n'\n",
    "print(star)\n",
    "\n",
    "# *  *  *  *  * \n",
    "# *  *  *  * \n",
    "# *  *  * \n",
    "# *  * \n",
    "# * "
   ]
  },
  {
   "cell_type": "code",
   "execution_count": null,
   "metadata": {},
   "outputs": [],
   "source": [
    "star = ''\n",
    "for i in range(5):\n",
    "    star += ' * '\n",
    "    print(star)\n",
    "# * \n",
    "# *  * \n",
    "# *  *  * \n",
    "# *  *  *  * \n",
    "# *  *  *  *  * "
   ]
  },
  {
   "cell_type": "code",
   "execution_count": 5,
   "metadata": {},
   "outputs": [
    {
     "name": "stdout",
     "output_type": "stream",
     "text": [
      " * \n",
      " * \n",
      " * \n",
      " * \n",
      " * \n"
     ]
    }
   ],
   "source": [
    "star = ' * '\n",
    "for i in range(5):\n",
    "    print(star)\n",
    "# * \n",
    "# * \n",
    "# * \n",
    "# * \n",
    "# *"
   ]
  },
  {
   "cell_type": "code",
   "execution_count": 8,
   "metadata": {},
   "outputs": [
    {
     "name": "stdout",
     "output_type": "stream",
     "text": [
      "1\n",
      "2\n",
      "3\n",
      "4\n",
      "5\n",
      "6\n",
      "7\n",
      "8\n",
      "9\n"
     ]
    }
   ],
   "source": [
    "x = [\n",
    "    [1, 2, 3],\n",
    "    [4, 5, 6],\n",
    "    [7, 8, 9]\n",
    "]\n",
    "for i in range(len(x)):\n",
    "    for j in range(len(x[i])):\n",
    "        print(x[i][j])\n",
    "        \n",
    "for row in x:\n",
    "    for col in row:\n",
    "        print(col)"
   ]
  },
  {
   "cell_type": "code",
   "execution_count": null,
   "metadata": {},
   "outputs": [],
   "source": []
  }
 ],
 "metadata": {
  "kernelspec": {
   "display_name": "Python 3",
   "language": "python",
   "name": "python3"
  },
  "language_info": {
   "codemirror_mode": {
    "name": "ipython",
    "version": 3
   },
   "file_extension": ".py",
   "mimetype": "text/x-python",
   "name": "python",
   "nbconvert_exporter": "python",
   "pygments_lexer": "ipython3",
   "version": "3.8.1"
  }
 },
 "nbformat": 4,
 "nbformat_minor": 4
}
