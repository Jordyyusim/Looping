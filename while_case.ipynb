{
 "cells": [
  {
   "cell_type": "code",
   "execution_count": null,
   "metadata": {},
   "outputs": [],
   "source": [
    "# password = '12345'\n",
    "# pwd = str()\n",
    "# while pwd != password:\n",
    "#     pwd = str(input('ketik pass anda : '))\n",
    "#     if password != pwd:\n",
    "#         print('pass anda salah')\n",
    "#     else:\n",
    "#         print('pass anda benar')"
   ]
  },
  {
   "cell_type": "code",
   "execution_count": null,
   "metadata": {},
   "outputs": [],
   "source": [
    "password = '12345'\n",
    "pwd = str()\n",
    "i = 1\n",
    "while pwd != password and i <= 5:\n",
    "    pwd = str(input('ketik pass anda : '))\n",
    "    if password != pwd and i < 5:\n",
    "        print('pass anda salah, anda masih memiliki', str(5 - i), 'kesempatan lagi')\n",
    "    elif password != pwd and i == 5:\n",
    "        print('password salah dan anda diblokir')\n",
    "    else:\n",
    "        print('pass anda benar')\n",
    "    i += 1"
   ]
  }
 ],
 "metadata": {
  "kernelspec": {
   "display_name": "Python 3",
   "language": "python",
   "name": "python3"
  },
  "language_info": {
   "codemirror_mode": {
    "name": "ipython",
    "version": 3
   },
   "file_extension": ".py",
   "mimetype": "text/x-python",
   "name": "python",
   "nbconvert_exporter": "python",
   "pygments_lexer": "ipython3",
   "version": "3.8.1"
  }
 },
 "nbformat": 4,
 "nbformat_minor": 4
}
