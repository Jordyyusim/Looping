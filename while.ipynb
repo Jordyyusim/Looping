{
 "cells": [
  {
   "cell_type": "markdown",
   "metadata": {},
   "source": [
    "# __WHILE LOOPING__\n",
    "<hr>\n",
    "<hr>"
   ]
  },
  {
   "cell_type": "code",
   "execution_count": 2,
   "metadata": {},
   "outputs": [
    {
     "name": "stdout",
     "output_type": "stream",
     "text": [
      "ok\n"
     ]
    }
   ],
   "source": [
    "x = 5\n",
    "while x == 5:\n",
    "    print('ok')\n",
    "    x = x + 1"
   ]
  },
  {
   "cell_type": "markdown",
   "metadata": {},
   "source": [
    "##### y = 0\n",
    "##### Saat y <= 2\n",
    "##### python akan print 'ok'\n",
    "##### Karena y = 0. python akan print ok\n",
    "##### Setelah itu y akan ditambah 1\n",
    "##### y skrg adalah 1. Karena y = 1 dan syaratnya adalah y <= 1\n",
    "##### python akan print 'ok' lagi\n",
    "##### Lanjut lagi, y ditambah 1 lagi\n",
    "##### y sebelumnya adalah 1. ditambah 1\n",
    "##### y skrg adalah 2. karena masih dalam syarat python akan print 'ok' lagi\n",
    "##### y sebelumnya adalah 2. ditambah 1 lagi\n",
    "#### y skrg adalah 3. karena sudah tidak ada syarat python tidak print apa2"
   ]
  },
  {
   "cell_type": "code",
   "execution_count": 3,
   "metadata": {},
   "outputs": [
    {
     "name": "stdout",
     "output_type": "stream",
     "text": [
      "oke\n",
      "oke\n",
      "oke\n"
     ]
    }
   ],
   "source": [
    "y = 0\n",
    "while y <= 2:\n",
    "    print('oke')\n",
    "    y = y + 1"
   ]
  },
  {
   "cell_type": "code",
   "execution_count": 17,
   "metadata": {},
   "outputs": [
    {
     "name": "stdout",
     "output_type": "stream",
     "text": [
      "ok\n",
      "p\n",
      "p\n",
      "p\n",
      "p\n"
     ]
    }
   ],
   "source": [
    "y = 0\n",
    "while y <= 5:\n",
    "    if y == 1:\n",
    "        print('ok')\n",
    "    elif y > 1:\n",
    "        print('p')\n",
    "    y = y + 1"
   ]
  },
  {
   "cell_type": "code",
   "execution_count": null,
   "metadata": {},
   "outputs": [],
   "source": [
    "# z = 0\n",
    "# while z <= 10:\n",
    "#     print(z)\n",
    "#     z = z + 1"
   ]
  },
  {
   "cell_type": "code",
   "execution_count": null,
   "metadata": {},
   "outputs": [],
   "source": [
    "q = 0\n",
    "while q <= 10:\n",
    "    print(q)\n",
    "    q += 1"
   ]
  },
  {
   "cell_type": "code",
   "execution_count": null,
   "metadata": {},
   "outputs": [],
   "source": [
    "x = [1,2,3,4,5]\n",
    "i = 0\n",
    "while i < len(x):\n",
    "    print(x[i])\n",
    "    i += 1"
   ]
  },
  {
   "cell_type": "code",
   "execution_count": null,
   "metadata": {},
   "outputs": [],
   "source": [
    "x = 'Purwadhika'\n",
    "i = 0\n",
    "while i < len(x):\n",
    "    print(x[i])\n",
    "    i += 1"
   ]
  },
  {
   "cell_type": "code",
   "execution_count": 16,
   "metadata": {},
   "outputs": [
    {
     "name": "stdout",
     "output_type": "stream",
     "text": [
      "Aloandi\n"
     ]
    }
   ],
   "source": [
    "x = 'Aliando'\n",
    "i = 0\n",
    "while i < len(x):\n",
    "    if x[i] == 'i':\n",
    "        x = x[:i] + 'o' + x[i+1:]\n",
    "    elif x[i] == 'o':\n",
    "        x = x[:i] + 'i' + x[i+1:]\n",
    "    i += 1\n",
    "print(x)"
   ]
  },
  {
   "cell_type": "code",
   "execution_count": null,
   "metadata": {},
   "outputs": [],
   "source": [
    "x = [\n",
    "    {'nama': 'Andi', 'kota': 'bsd'},\n",
    "    {'nama': 'Budi', 'kota': 'jakarta'},\n",
    "    {'nama': 'Caca', 'kota': 'bandung'},\n",
    "]\n",
    "\n",
    "i = 0\n",
    "while i < len(x):\n",
    "    print(x[i]['nama'])\n",
    "    i += 1\n",
    "\n",
    "j = 0\n",
    "while j < len(x):\n",
    "    print(x[j]['kota'])\n",
    "    j += 1"
   ]
  }
 ],
 "metadata": {
  "kernelspec": {
   "display_name": "Python 3",
   "language": "python",
   "name": "python3"
  },
  "language_info": {
   "codemirror_mode": {
    "name": "ipython",
    "version": 3
   },
   "file_extension": ".py",
   "mimetype": "text/x-python",
   "name": "python",
   "nbconvert_exporter": "python",
   "pygments_lexer": "ipython3",
   "version": "3.8.1"
  }
 },
 "nbformat": 4,
 "nbformat_minor": 4
}
